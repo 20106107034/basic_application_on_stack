{
  "nbformat": 4,
  "nbformat_minor": 0,
  "metadata": {
    "colab": {
      "provenance": [],
      "authorship_tag": "ABX9TyNFISPxKQFVTPV8I37vOunD",
      "include_colab_link": true
    },
    "kernelspec": {
      "name": "python3",
      "display_name": "Python 3"
    },
    "language_info": {
      "name": "python"
    }
  },
  "cells": [
    {
      "cell_type": "markdown",
      "metadata": {
        "id": "view-in-github",
        "colab_type": "text"
      },
      "source": [
        "<a href=\"https://colab.research.google.com/github/20106107034/basic_application_on_stack/blob/main/statics_.ipynb\" target=\"_parent\"><img src=\"https://colab.research.google.com/assets/colab-badge.svg\" alt=\"Open In Colab\"/></a>"
      ]
    },
    {
      "cell_type": "code",
      "execution_count": 156,
      "metadata": {
        "id": "t2LLqCrNmQiv"
      },
      "outputs": [],
      "source": [
        "import numpy as np\n",
        "# 1. python program to compute\n",
        "  #1.)a. Central Tendency Measures:mean ,median,mode\n",
        "  #1.)b. Measure of Dispersion:    variance,Standard Deviation\n",
        "\n",
        "# function for find mean\n",
        "\n",
        "def MeanF(lst: list):\n",
        "  sum1=0\n",
        "  for i in lst:\n",
        "    sum1+=i\n",
        "  return sum1/len(lst)\n",
        "\n",
        "# function for find median\n",
        "def find_median(lt:list):\n",
        "  arr=np.array(lt)\n",
        "  arr=np.sort(arr)\n",
        "  a=len(lt)\n",
        "  i=a//2\n",
        "  if(a%2==0):\n",
        "    return (arr[i-1]+arr[i])/2\n",
        "  else:\n",
        "    return arr[i]\n",
        "  \n",
        "# function for find mode\n",
        "\n",
        "def find_mode(lis:list):\n",
        "  arr=np.array(lis)\n",
        "  arr=np.sort(arr)\n",
        "  i=0\n",
        "  max=1\n",
        "  k=0\n",
        "  num=[]\n",
        "  \n",
        "  while(i<(len(arr)-1)):\n",
        "    j=1\n",
        "    \n",
        "    while(arr[i]==arr[i+1]):\n",
        "      j+=1\n",
        "      i+=1\n",
        "      if(i==(len(arr)-1)):\n",
        "        i-=1\n",
        "        break\n",
        "    \n",
        "    if(j>max):\n",
        "      max=j\n",
        "      num.append(arr[i])\n",
        "      k+=1\n",
        "    i+=1\n",
        "  if(k==0):\n",
        "    return [lis,1]\n",
        "  else:\n",
        "    return [num,max]\n",
        "\n",
        "# function for find standard deviation\n",
        "\n",
        "\n",
        "def sand_dev(sud:list):\n",
        "  arr=np.array(sud)\n",
        "  mean=np.mean(arr)\n",
        "  sum=0\n",
        "  for i in arr:\n",
        "    i=i-mean\n",
        "    sum+=i*i\n",
        "  sum=sum/len(arr)\n",
        "  return (sum)**0.5\n",
        "\n",
        "# function for find the variance\n",
        "\n",
        "def variance(sud:list):\n",
        "  arr=np.array(sud)\n",
        "  mean=np.mean(arr)\n",
        "  sum=0\n",
        "  for i in arr:\n",
        "    i=i-mean\n",
        "    sum+=i*i\n",
        "  sum=sum/len(arr)\n",
        "  return sum"
      ]
    },
    {
      "cell_type": "code",
      "source": [
        "lis=[9,8,5,2,6,2]"
      ],
      "metadata": {
        "id": "xRLwhItkGOP-"
      },
      "execution_count": 159,
      "outputs": []
    },
    {
      "cell_type": "code",
      "source": [
        "find_mode(lis)"
      ],
      "metadata": {
        "colab": {
          "base_uri": "https://localhost:8080/"
        },
        "id": "mXpx7jUMGcGd",
        "outputId": "5ca3b454-a835-4548-904f-1f9c1497bf5e"
      },
      "execution_count": 160,
      "outputs": [
        {
          "output_type": "execute_result",
          "data": {
            "text/plain": [
              "[[2], 2]"
            ]
          },
          "metadata": {},
          "execution_count": 160
        }
      ]
    },
    {
      "cell_type": "code",
      "source": [
        "## mean by method\n",
        "\n",
        "lst=[1,2,5,7,9]\n",
        "def MeanF(lst: list):\n",
        "  sum1=0\n",
        "  for i in lst:\n",
        "    sum+=i\n",
        "  return sum/len(lst)\n",
        "print(MeanF(lst))"
      ],
      "metadata": {
        "colab": {
          "base_uri": "https://localhost:8080/"
        },
        "id": "1fvubGd0n8N5",
        "outputId": "33f0a77f-b474-4a8b-e02e-e9e3af959272"
      },
      "execution_count": 19,
      "outputs": [
        {
          "output_type": "stream",
          "name": "stdout",
          "text": [
            "5.0\n"
          ]
        }
      ]
    },
    {
      "cell_type": "code",
      "source": [
        "# by built function find mean\n",
        "arr=np.array(lst)\n",
        "mean2=arr.sum()/len(arr)\n",
        "mean3=arr.mean()\n",
        "print(\"mean of the lst  is same as in MeanF or mean2 and mean3\",end=' ')\n",
        "print(mean2,end=',')\n",
        "print(mean3)\n",
        "# its upon you how you want to find by logical function or defined function"
      ],
      "metadata": {
        "colab": {
          "base_uri": "https://localhost:8080/"
        },
        "id": "YdPWCeOAoEtg",
        "outputId": "66facdc2-c8c7-488f-8578-779d4109b072"
      },
      "execution_count": 31,
      "outputs": [
        {
          "output_type": "stream",
          "name": "stdout",
          "text": [
            "mean of the lst  is same as in MeanF or mean2 and mean3 5.0,5.0\n"
          ]
        }
      ]
    },
    {
      "cell_type": "code",
      "source": [
        "np.sum(arr)"
      ],
      "metadata": {
        "colab": {
          "base_uri": "https://localhost:8080/"
        },
        "id": "qBrGIFuRoMvd",
        "outputId": "becc5522-7f5a-46d7-ca10-1ebb062ef78e"
      },
      "execution_count": 32,
      "outputs": [
        {
          "output_type": "execute_result",
          "data": {
            "text/plain": [
              "25"
            ]
          },
          "metadata": {},
          "execution_count": 32
        }
      ]
    },
    {
      "cell_type": "code",
      "source": [
        "np.mean(arr)"
      ],
      "metadata": {
        "colab": {
          "base_uri": "https://localhost:8080/"
        },
        "id": "14ZHfibOoOz4",
        "outputId": "278d5054-11ff-404a-81a5-3043c8e12eb8"
      },
      "execution_count": 33,
      "outputs": [
        {
          "output_type": "execute_result",
          "data": {
            "text/plain": [
              "5.0"
            ]
          },
          "metadata": {},
          "execution_count": 33
        }
      ]
    },
    {
      "cell_type": "code",
      "source": [
        "# in case of two dimentional array\n",
        "array2=np.array([[1,2,3],[4,5,6]])"
      ],
      "metadata": {
        "id": "zsmfw9Jjro3K"
      },
      "execution_count": 40,
      "outputs": []
    },
    {
      "cell_type": "code",
      "source": [
        "df.shape"
      ],
      "metadata": {
        "colab": {
          "base_uri": "https://localhost:8080/"
        },
        "id": "-uRyd0PDrrpa",
        "outputId": "b67883d6-fb3c-4e33-c1ee-a950f368aaaf"
      },
      "execution_count": 41,
      "outputs": [
        {
          "output_type": "execute_result",
          "data": {
            "text/plain": [
              "(2, 3)"
            ]
          },
          "metadata": {},
          "execution_count": 41
        }
      ]
    },
    {
      "cell_type": "code",
      "source": [
        "np.mean(array2)"
      ],
      "metadata": {
        "colab": {
          "base_uri": "https://localhost:8080/"
        },
        "id": "AoGWiiDstouG",
        "outputId": "5a90aa6b-3d50-4455-fb71-2998e15f8622"
      },
      "execution_count": 42,
      "outputs": [
        {
          "output_type": "execute_result",
          "data": {
            "text/plain": [
              "3.5"
            ]
          },
          "metadata": {},
          "execution_count": 42
        }
      ]
    },
    {
      "cell_type": "code",
      "source": [
        "np.mean(array2,axis=0)"
      ],
      "metadata": {
        "colab": {
          "base_uri": "https://localhost:8080/"
        },
        "id": "_J7z8Bh1t9Qg",
        "outputId": "51f2b6ed-f014-454b-ade3-7422c0776011"
      },
      "execution_count": 43,
      "outputs": [
        {
          "output_type": "execute_result",
          "data": {
            "text/plain": [
              "array([2.5, 3.5, 4.5])"
            ]
          },
          "metadata": {},
          "execution_count": 43
        }
      ]
    },
    {
      "cell_type": "code",
      "source": [
        "np.mean(array2,axis=1)"
      ],
      "metadata": {
        "colab": {
          "base_uri": "https://localhost:8080/"
        },
        "id": "SIrS_7h6uFh5",
        "outputId": "120764b7-444d-4ea4-87a7-efacbc4e95ce"
      },
      "execution_count": 44,
      "outputs": [
        {
          "output_type": "execute_result",
          "data": {
            "text/plain": [
              "array([2., 5.])"
            ]
          },
          "metadata": {},
          "execution_count": 44
        }
      ]
    },
    {
      "cell_type": "code",
      "source": [
        "# now think about median\n",
        "lst1=[1,5,9,7,3]\n"
      ],
      "metadata": {
        "id": "wATjzfDkuLPu"
      },
      "execution_count": 59,
      "outputs": []
    },
    {
      "cell_type": "code",
      "source": [
        "# function for median of a list \n",
        "\n",
        "def find_median(lt:list):\n",
        "  arr=np.array(lt)\n",
        "  arr=np.sort(arr)\n",
        "  a=len(lt)\n",
        "  i=a//2\n",
        "  if(a%2==0):\n",
        "    return (arr[i-1]+arr[i])/2\n",
        "  else:\n",
        "    return arr[i]\n"
      ],
      "metadata": {
        "id": "d1niAjzOurOZ"
      },
      "execution_count": 103,
      "outputs": []
    },
    {
      "cell_type": "code",
      "source": [
        "find_median(lst1)"
      ],
      "metadata": {
        "colab": {
          "base_uri": "https://localhost:8080/"
        },
        "id": "BkHrcCbquvCj",
        "outputId": "a0cb63f6-7887-48be-ae9c-010388f4db91"
      },
      "execution_count": 96,
      "outputs": [
        {
          "output_type": "execute_result",
          "data": {
            "text/plain": [
              "5"
            ]
          },
          "metadata": {},
          "execution_count": 96
        }
      ]
    },
    {
      "cell_type": "code",
      "source": [
        "list1=[1,5,9,7]"
      ],
      "metadata": {
        "id": "57UWv1gRu37u"
      },
      "execution_count": 97,
      "outputs": []
    },
    {
      "cell_type": "code",
      "source": [
        "find_median(list1)\n"
      ],
      "metadata": {
        "colab": {
          "base_uri": "https://localhost:8080/"
        },
        "id": "ockJPn_4u5jT",
        "outputId": "d228e2db-ef03-4b51-d168-00690c854231"
      },
      "execution_count": 98,
      "outputs": [
        {
          "output_type": "execute_result",
          "data": {
            "text/plain": [
              "6.0"
            ]
          },
          "metadata": {},
          "execution_count": 98
        }
      ]
    },
    {
      "cell_type": "code",
      "source": [
        "np.median(list1)"
      ],
      "metadata": {
        "colab": {
          "base_uri": "https://localhost:8080/"
        },
        "id": "YYq8jDSAu7pr",
        "outputId": "9ff1fe1b-3f0d-47c3-f568-676accf6d8ea"
      },
      "execution_count": 99,
      "outputs": [
        {
          "output_type": "execute_result",
          "data": {
            "text/plain": [
              "6.0"
            ]
          },
          "metadata": {},
          "execution_count": 99
        }
      ]
    },
    {
      "cell_type": "code",
      "source": [
        "np.median(lst)"
      ],
      "metadata": {
        "colab": {
          "base_uri": "https://localhost:8080/"
        },
        "id": "53G8pY6qu_Uz",
        "outputId": "0f506a45-268e-4b5d-b60e-ce41698cd56f"
      },
      "execution_count": 100,
      "outputs": [
        {
          "output_type": "execute_result",
          "data": {
            "text/plain": [
              "5.0"
            ]
          },
          "metadata": {},
          "execution_count": 100
        }
      ]
    },
    {
      "cell_type": "code",
      "source": [
        "# for mode no such like np.mode\n",
        "list2=[1,2,2,2,3,3,4,4,5,6,6]"
      ],
      "metadata": {
        "id": "i1p1lQCw0Wlk"
      },
      "execution_count": 104,
      "outputs": []
    },
    {
      "cell_type": "code",
      "source": [
        "# function to find mode in a list\n",
        "\n",
        "def find_mode(lis:list):\n",
        "  arr=np.array(lis)\n",
        "  arr=np.sort(arr)\n",
        "  i=0\n",
        "  max=1\n",
        "  k=0\n",
        "  num=[]\n",
        "  \n",
        "  while(i<(len(arr)-1)):\n",
        "    j=1\n",
        "    \n",
        "    while(arr[i]==arr[i+1]):\n",
        "      j+=1\n",
        "      i+=1\n",
        "      if(i==(len(arr)-1)):\n",
        "        i-=1\n",
        "        break\n",
        "    \n",
        "    if(j>max):\n",
        "      max=j\n",
        "      num.append(arr[i])\n",
        "      k+=1\n",
        "    i+=1\n",
        "  if(k==0):\n",
        "    return [lis,1]\n",
        "  else:\n",
        "    return [num,max]\n",
        "      \n",
        "\n"
      ],
      "metadata": {
        "id": "ot12-jq302xg"
      },
      "execution_count": 114,
      "outputs": []
    },
    {
      "cell_type": "code",
      "source": [
        "find_mode(list2)"
      ],
      "metadata": {
        "colab": {
          "base_uri": "https://localhost:8080/"
        },
        "id": "-tUbUsXT14RU",
        "outputId": "b1428e67-c88b-4e6f-c03e-738a5d3632da"
      },
      "execution_count": 115,
      "outputs": [
        {
          "output_type": "execute_result",
          "data": {
            "text/plain": [
              "(2, 3)"
            ]
          },
          "metadata": {},
          "execution_count": 115
        }
      ]
    },
    {
      "cell_type": "code",
      "source": [
        "li=[1,7,9,3,3,5,3,5,3]"
      ],
      "metadata": {
        "id": "-y10PCA33aO7"
      },
      "execution_count": 118,
      "outputs": []
    },
    {
      "cell_type": "code",
      "source": [
        "find_mode(li)"
      ],
      "metadata": {
        "colab": {
          "base_uri": "https://localhost:8080/"
        },
        "id": "Du9WibOE5Evx",
        "outputId": "f5b2d5e9-1a5c-4d7a-83e7-7598aae06b7e"
      },
      "execution_count": 119,
      "outputs": [
        {
          "output_type": "execute_result",
          "data": {
            "text/plain": [
              "(3, 4)"
            ]
          },
          "metadata": {},
          "execution_count": 119
        }
      ]
    },
    {
      "cell_type": "code",
      "source": [
        "arr=np.array(li)\n",
        "from collections import Counter\n",
        "count=Counter(arr)\n",
        "count.most_common(1)"
      ],
      "metadata": {
        "colab": {
          "base_uri": "https://localhost:8080/"
        },
        "id": "vAMq8O5d5IP-",
        "outputId": "f4ef1d2c-ac02-4019-b761-01873e183cdc"
      },
      "execution_count": 121,
      "outputs": [
        {
          "output_type": "execute_result",
          "data": {
            "text/plain": [
              "[(3, 4)]"
            ]
          },
          "metadata": {},
          "execution_count": 121
        }
      ]
    },
    {
      "cell_type": "code",
      "source": [
        "# concept of standard Deviation \n",
        "import math\n",
        "sud=[9,8,5,2,6]\n",
        "def sand_dev(sud:list):\n",
        "  arr=np.array(sud)\n",
        "  mean=np.mean(arr)\n",
        "  sum=0\n",
        "  for i in arr:\n",
        "    i=i-mean\n",
        "    sum+=i*i\n",
        "  sum=sum/len(arr)\n",
        "  return math.sqrt(sum)"
      ],
      "metadata": {
        "id": "o-76ZhFbABy_"
      },
      "execution_count": 129,
      "outputs": []
    },
    {
      "cell_type": "code",
      "source": [
        "sand_dev(sud)"
      ],
      "metadata": {
        "colab": {
          "base_uri": "https://localhost:8080/"
        },
        "id": "xli7PsaDBcd7",
        "outputId": "a7ee5d5e-aa1e-4c60-f003-5c822bc20675"
      },
      "execution_count": 130,
      "outputs": [
        {
          "output_type": "stream",
          "name": "stdout",
          "text": [
            "6.0\n"
          ]
        },
        {
          "output_type": "execute_result",
          "data": {
            "text/plain": [
              "2.449489742783178"
            ]
          },
          "metadata": {},
          "execution_count": 130
        }
      ]
    },
    {
      "cell_type": "code",
      "source": [
        "# cocept for variance \n",
        "# variance is square of standard deviation\n",
        "def variance(sud:list):\n",
        "  arr=np.array(sud)\n",
        "  mean=np.mean(arr)\n",
        "  sum=0\n",
        "  for i in arr:\n",
        "    i=i-mean\n",
        "    sum+=i*i\n",
        "  sum=sum/len(arr)\n",
        "  return sum"
      ],
      "metadata": {
        "id": "YL2oVrI3BfEB"
      },
      "execution_count": 131,
      "outputs": []
    },
    {
      "cell_type": "code",
      "source": [
        "variance(sud)"
      ],
      "metadata": {
        "colab": {
          "base_uri": "https://localhost:8080/"
        },
        "id": "sTH7cQ0aEcXa",
        "outputId": "132f21fc-dc9f-46fd-b77d-396d36af4dc9"
      },
      "execution_count": 132,
      "outputs": [
        {
          "output_type": "execute_result",
          "data": {
            "text/plain": [
              "6.0"
            ]
          },
          "metadata": {},
          "execution_count": 132
        }
      ]
    },
    {
      "cell_type": "code",
      "source": [],
      "metadata": {
        "id": "gjOx7ncXEfyw"
      },
      "execution_count": null,
      "outputs": []
    }
  ]
}